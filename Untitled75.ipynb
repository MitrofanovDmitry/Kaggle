{
  "nbformat": 4,
  "nbformat_minor": 0,
  "metadata": {
    "colab": {
      "name": "Untitled75.ipynb",
      "provenance": [],
      "collapsed_sections": [],
      "authorship_tag": "ABX9TyPlOu98ReoPe3rJqaCn7ZOv",
      "include_colab_link": true
    },
    "kernelspec": {
      "name": "python3",
      "display_name": "Python 3"
    },
    "language_info": {
      "name": "python"
    }
  },
  "cells": [
    {
      "cell_type": "markdown",
      "metadata": {
        "id": "view-in-github",
        "colab_type": "text"
      },
      "source": [
        "<a href=\"https://colab.research.google.com/github/MitrofanovDmitry/Kaggle/blob/main/Untitled75.ipynb\" target=\"_parent\"><img src=\"https://colab.research.google.com/assets/colab-badge.svg\" alt=\"Open In Colab\"/></a>"
      ]
    },
    {
      "cell_type": "code",
      "source": [
        "import json"
      ],
      "metadata": {
        "id": "rn89kxd987_D"
      },
      "execution_count": 13,
      "outputs": []
    },
    {
      "cell_type": "code",
      "source": [
        ""
      ],
      "metadata": {
        "id": "4gfiUQNk87qj"
      },
      "execution_count": null,
      "outputs": []
    },
    {
      "cell_type": "code",
      "execution_count": 2,
      "metadata": {
        "id": "OJLUZnJ62i9V"
      },
      "outputs": [],
      "source": [
        "import pandas as pd"
      ]
    },
    {
      "cell_type": "code",
      "source": [
        "js_0 = {\n",
        "    \"ID\":{\n",
        "        \"0\":23,\n",
        "        \"1\":43,\n",
        "        \"2\":12,\n",
        "        \"3\":13,\n",
        "        \"4\":67,\n",
        "        \"5\":89\n",
        "        },\n",
        "    \"Name\":{\n",
        "        \"0\":\"Ram\",\n",
        "        \"1\":\"Deep\",\n",
        "        \"2\":\"Yash\",\n",
        "        \"3\":\"Aman\",\n",
        "        \"4\":\"Arjun\",\n",
        "        \"5\":\"Aditya\"\n",
        "        },\n",
        "    \"Marks\":{\n",
        "        \"0\":89,\n",
        "        \"1\":97,\n",
        "        \"2\":45,\n",
        "        \"3\":78,\n",
        "        \"4\":56,\n",
        "        \"5\":76\n",
        "        },\n",
        "    \"Grade\":{\n",
        "        \"0\":\"B\",\n",
        "        \"1\":\"A\",\n",
        "        \"2\":\"F\",\n",
        "        \"3\":\"C\",\n",
        "        \"4\":\"E\",\n",
        "        \"5\":\"C\"\n",
        "        }\n",
        "}\n",
        "\n"
      ],
      "metadata": {
        "id": "S7ITiDvo2q7G"
      },
      "execution_count": 9,
      "outputs": []
    },
    {
      "cell_type": "code",
      "source": [
        "js_01 = {\n",
        "    \"ID\":{\n",
        "        \"0\":90,\n",
        "        \"1\":56,\n",
        "        \"2\":34,\n",
        "        \"3\":96,\n",
        "        \"4\":45\n",
        "         },\n",
        "    \"Name\":{\n",
        "        \"0\":\"Akash\",\n",
        "        \"1\":\"Chalsea\",\n",
        "        \"2\":\"Divya\",\n",
        "        \"3\":\"Sajal\",\n",
        "        \"4\":\"Shubham\"\n",
        "        },\n",
        "    \"Marks\":{\n",
        "        \"0\":81,\n",
        "        \"1\":87,\n",
        "        \"2\":100,\n",
        "        \"3\":89,\n",
        "        \"4\":78\n",
        "        },\n",
        "    \"Grade\":{\n",
        "        \"0\":\"B\",\n",
        "        \"1\":\"B\",\n",
        "        \"2\":\"A\",\n",
        "        \"3\":\"B\",\n",
        "        \"4\":\"C\"\n",
        "        }\n",
        "}"
      ],
      "metadata": {
        "id": "EsqMRwsC2q3e"
      },
      "execution_count": 10,
      "outputs": []
    },
    {
      "cell_type": "code",
      "source": [
        "js_0 = json.dumps(js_0)"
      ],
      "metadata": {
        "id": "538pn52S-QS7"
      },
      "execution_count": 18,
      "outputs": []
    },
    {
      "cell_type": "code",
      "source": [
        "js_01 = json.dumps(js_01)"
      ],
      "metadata": {
        "id": "EkVuFthp-QOh"
      },
      "execution_count": 19,
      "outputs": []
    },
    {
      "cell_type": "code",
      "source": [
        "# importing packages\n",
        "import pandas as pd\n",
        "  \n",
        "# load json file using pandas\n",
        "js_1 = pd.read_json(js_0)\n",
        "  \n",
        "# view data\n",
        "print(js_1)\n",
        "  \n",
        "# load json file using pandas\n",
        "js_2 = pd.read_json(js_01)\n",
        "  \n",
        "# view data\n",
        "print(js_2)\n",
        "  \n",
        "# use pandas.concat method \n",
        "df = pd.concat([js_1, js_2])\n",
        "  \n",
        "# view the concatenated dataframe\n",
        "print(df)\n",
        "  \n",
        "# convert dataframe to csv file\n",
        "df.to_csv(\"CSV.csv\",index=False)\n",
        "  \n",
        "# load the resultant csv file\n",
        "result = pd.read_csv(\"CSV.csv\")\n",
        "  \n",
        "# and view the data\n",
        "print(result)"
      ],
      "metadata": {
        "colab": {
          "base_uri": "https://localhost:8080/"
        },
        "id": "wuj_lcn72qz4",
        "outputId": "63c65038-c92b-4105-e25b-e4707048f4dd"
      },
      "execution_count": 23,
      "outputs": [
        {
          "output_type": "stream",
          "name": "stdout",
          "text": [
            "   ID    Name  Marks Grade\n",
            "0  23     Ram     89     B\n",
            "1  43    Deep     97     A\n",
            "2  12    Yash     45     F\n",
            "3  13    Aman     78     C\n",
            "4  67   Arjun     56     E\n",
            "5  89  Aditya     76     C\n",
            "   ID     Name  Marks Grade\n",
            "0  90    Akash     81     B\n",
            "1  56  Chalsea     87     B\n",
            "2  34    Divya    100     A\n",
            "3  96    Sajal     89     B\n",
            "4  45  Shubham     78     C\n",
            "   ID     Name  Marks Grade\n",
            "0  23      Ram     89     B\n",
            "1  43     Deep     97     A\n",
            "2  12     Yash     45     F\n",
            "3  13     Aman     78     C\n",
            "4  67    Arjun     56     E\n",
            "5  89   Aditya     76     C\n",
            "0  90    Akash     81     B\n",
            "1  56  Chalsea     87     B\n",
            "2  34    Divya    100     A\n",
            "3  96    Sajal     89     B\n",
            "4  45  Shubham     78     C\n",
            "    ID     Name  Marks Grade\n",
            "0   23      Ram     89     B\n",
            "1   43     Deep     97     A\n",
            "2   12     Yash     45     F\n",
            "3   13     Aman     78     C\n",
            "4   67    Arjun     56     E\n",
            "5   89   Aditya     76     C\n",
            "6   90    Akash     81     B\n",
            "7   56  Chalsea     87     B\n",
            "8   34    Divya    100     A\n",
            "9   96    Sajal     89     B\n",
            "10  45  Shubham     78     C\n"
          ]
        }
      ]
    },
    {
      "cell_type": "code",
      "source": [
        ""
      ],
      "metadata": {
        "id": "Cp5ZlMjm2qwO"
      },
      "execution_count": null,
      "outputs": []
    },
    {
      "cell_type": "code",
      "source": [
        ""
      ],
      "metadata": {
        "id": "8-zmv1u32qtB"
      },
      "execution_count": null,
      "outputs": []
    },
    {
      "cell_type": "code",
      "source": [
        ""
      ],
      "metadata": {
        "id": "uceC8-Pe2qpo"
      },
      "execution_count": null,
      "outputs": []
    },
    {
      "cell_type": "code",
      "source": [
        ""
      ],
      "metadata": {
        "id": "NPeN1v092qk9"
      },
      "execution_count": null,
      "outputs": []
    },
    {
      "cell_type": "code",
      "source": [
        ""
      ],
      "metadata": {
        "id": "yL2nFaUs2qYc"
      },
      "execution_count": null,
      "outputs": []
    }
  ]
}